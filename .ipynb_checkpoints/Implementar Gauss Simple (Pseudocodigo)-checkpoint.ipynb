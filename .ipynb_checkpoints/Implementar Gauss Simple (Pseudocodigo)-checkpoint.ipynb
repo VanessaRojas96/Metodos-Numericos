{
 "cells": [
  {
   "cell_type": "code",
   "execution_count": 1,
   "metadata": {
    "collapsed": false
   },
   "outputs": [
    {
     "name": "stdout",
     "output_type": "stream",
     "text": [
      "X1=3.0\n",
      "X2=-2.5\n",
      "X3=7.0\n"
     ]
    }
   ],
   "source": [
    "m = [[3,-0.1,-0.2],[0.1,7,-0.3],[0.3,-0.2,10]]\n",
    "b=[7.85,-19.3,71.4]\n",
    "x=[0,0,0]\n",
    "n=3\n",
    "\n",
    "for k in range(0,(n-1)):\n",
    "    for i in range(k+1,n):\n",
    "        factor=m[i][k]/m[k][k]\n",
    "        for j in range (k+1,n):\n",
    "            m[i][j]=m[i][j]-(factor*m[k][j])\n",
    "        b[i]=b[i]-(factor*b[k])\n",
    "            \n",
    "for i in range (0,n):\n",
    "    x[i]=b[i]/m[i][i]\n",
    "\n",
    "for i in range (n-1,-1,-1):\n",
    "    sum=b[i]\n",
    "    for j in range (i+1,n):\n",
    "        sum=sum-(m[i][j]*x[j])\n",
    "    x[i]=sum/m[i][i]\n",
    "\n",
    "for i in range(n):\n",
    "    print \"X%d=%.1f\"%(i+1,x[i])\n",
    "\n"
   ]
  },
  {
   "cell_type": "code",
   "execution_count": null,
   "metadata": {
    "collapsed": true
   },
   "outputs": [],
   "source": []
  }
 ],
 "metadata": {
  "kernelspec": {
   "display_name": "Python 2",
   "language": "python",
   "name": "python2"
  },
  "language_info": {
   "codemirror_mode": {
    "name": "ipython",
    "version": 2
   },
   "file_extension": ".py",
   "mimetype": "text/x-python",
   "name": "python",
   "nbconvert_exporter": "python",
   "pygments_lexer": "ipython2",
   "version": "2.7.11"
  }
 },
 "nbformat": 4,
 "nbformat_minor": 0
}
