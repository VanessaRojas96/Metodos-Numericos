{
 "cells": [
  {
   "cell_type": "markdown",
   "metadata": {},
   "source": [
    "0.3X1 + 0.52X2 +X3 = -0.01\n",
    "0.5X1 + X2 + 1.9X3 = 0.67\n",
    "0.1X1 + 0.3X2 + 0.5X3 = -0.44"
   ]
  },
  {
   "cell_type": "code",
   "execution_count": 9,
   "metadata": {
    "collapsed": false
   },
   "outputs": [
    {
     "name": "stdout",
     "output_type": "stream",
     "text": [
      "\n",
      "SOLUCION DE UN SISTEMA DE ECUACIONES 3X3\n",
      "\n",
      "Digite el coeficiente [1][1]:0.3\n",
      "Digite el coeficiente [1][2]:0.52\n",
      "Digite el coeficiente [1][3]:1.0\n",
      "Digite el coeficiente [2][1]:0.5\n",
      "Digite el coeficiente [2][2]:1.0\n",
      "Digite el coeficiente [2][3]:1.9\n",
      "Digite el coeficiente [3][1]:0.1\n",
      "Digite el coeficiente [3][2]:0.3\n",
      "Digite el coeficiente [3][3]:0.5\n",
      "Ingrese solucion [1]-0.01\n",
      "Ingrese solucion [2]0.67\n",
      "Ingrese solucion [3]-0.44\n",
      "\n",
      "La matriz de coeficientes es: \n",
      "[[0.3, 0.52, 1.0], [0.5, 1.0, 1.9], [0.1, 0.3, 0.5]]\n",
      "\n",
      "Y el vector solucion es: \n",
      "[-0.01, 0.67, -0.44]\n",
      "\n",
      "El determinante de la matriz de coeficientes es= -0.0022\n",
      "\n",
      "La solución para X1= -14.9\n",
      "La solución para X2= -29.5\n",
      "La solución para X3= 19.8\n"
     ]
    }
   ],
   "source": [
    "matriz=[]\n",
    "sol=[]\n",
    "\n",
    "print \"\\nSOLUCION DE UN SISTEMA DE ECUACIONES 3X3\\n\"\n",
    "\n",
    "for i in range(3):#filas\n",
    "    matriz.append([])\n",
    "    for j in range(3):#columnas\n",
    "        #print (\"Digite el coeficiente: [%d][%d]\")%(i+1,j+1)\n",
    "        m=float(input((\"Digite el coeficiente [%d][%d]:\")%(i+1,j+1)))\n",
    "        matriz[i].append(m)\n",
    "\n",
    "for k in range(3):\n",
    "    n=float(input((\"Ingrese solucion [%d]\")%(k+1)))\n",
    "    sol.append(n)\n",
    "\n",
    "\n",
    "print \"\\nLa matriz de coeficientes es: \" \n",
    "print matriz\n",
    "\n",
    "print \"\\nY el vector solucion es: \"\n",
    "print sol\n",
    "\n",
    "#Determinante\n",
    "det=(matriz[0][0]*(matriz[1][1]*matriz[2][2]-matriz[1][2]*matriz[2][1]))-(matriz[0][1]*(matriz[1][0]*matriz[2][2]-matriz[1][2]*matriz[2][0]))+(matriz[0][2]*(matriz[1][0]*matriz[2][1]-matriz[1][1]*matriz[2][0]))\n",
    "print \"\\nEl determinante de la matriz de coeficientes es= %.4f\\n\"%det \n",
    "\n",
    "d1=(sol[0]*(matriz[1][1]*matriz[2][2]-matriz[1][2]*matriz[2][1]))-(sol[1]*(matriz[0][1]*matriz[2][2]-matriz[2][1]*matriz[0][2]))+(sol[2]*(matriz[0][1]*matriz[1][2]-matriz[1][1]*matriz[0][2]))\n",
    "\n",
    "d2=-1*(sol[0]*(matriz[1][0]*matriz[2][2]-matriz[2][0]*matriz[1][2]))+(sol[1]*(matriz[0][0]*matriz[2][2]-matriz[2][0]*matriz[0][2]))-(sol[2]*(matriz[0][0]*matriz[1][2]-matriz[1][0]*matriz[0][2]))\n",
    "\n",
    "d3=(sol[0]*(matriz[1][0]*matriz[2][1]-matriz[2][0]*matriz[1][1]))-(sol[1]*(matriz[0][0]*matriz[2][1]-matriz[2][0]*matriz[0][1]))+(sol[2]*(matriz[0][0]*matriz[1][1]-matriz[1][0]*matriz[0][1]))\n",
    "\n",
    "x1=d1/det\n",
    "x2=d2/det\n",
    "x3=d3/det\n",
    "\n",
    "print \"La solución para X1= %.1f\"%x1\n",
    "print \"La solución para X2= %.1f\"%x2\n",
    "print \"La solución para X3= %.1f\"%x3"
   ]
  },
  {
   "cell_type": "code",
   "execution_count": null,
   "metadata": {
    "collapsed": true
   },
   "outputs": [],
   "source": []
  }
 ],
 "metadata": {
  "kernelspec": {
   "display_name": "Python 2",
   "language": "python",
   "name": "python2"
  }
 },
 "nbformat": 4,
 "nbformat_minor": 0
}
