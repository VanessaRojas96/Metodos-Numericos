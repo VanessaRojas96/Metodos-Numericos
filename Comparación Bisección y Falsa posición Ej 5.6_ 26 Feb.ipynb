{
 "cells": [
  {
   "cell_type": "code",
   "execution_count": 5,
   "metadata": {
    "collapsed": false
   },
   "outputs": [
    {
     "name": "stdout",
     "output_type": "stream",
     "text": [
      "|   Iteracion | Error Falsa posicion   | Error Biseccion   |   Diferencia |\n",
      "|------------:|:-----------------------|:------------------|-------------:|\n",
      "|           1 | 90.5700404628 %        | 35.0 %            |      55.57   |\n",
      "|           2 | 81.8241127481 %        | 2.5 %             |      79.3241 |\n",
      "|           3 | 73.712598748 %         | 13.75 %           |      59.9626 |\n",
      "|           4 | 66.1894896678 %        | 5.625 %           |      60.5645 |\n",
      "|           5 | 59.2122083407 %        | 1.5625 %          |      57.6497 |\n",
      "|           6 | 52.7416846438 %        | 0.46875 %         |      52.2729 |\n",
      "|           7 | 46.7428489368 %        | 0.546875 %        |      46.196  |\n",
      "|           8 | 41.1855430829 %        | 0.0390625 %       |      41.1465 |\n",
      "|           9 | 36.0456029232 %        | 0.21484375 %      |      35.8308 |\n",
      "|          10 | 31.3056833259 %        | 0.087890625 %     |      31.2178 |\n"
     ]
    },
    {
     "data": {
      "image/png": "[encoded data removed]",
      "text/plain": [
       "<matplotlib.figure.Figure at 0xa422828>"
      ]
     },
     "metadata": {},
     "output_type": "display_data"
    }
   ],
   "source": [
    "import math\n",
    "from tabulate import tabulate\n",
    "import matplotlib.pyplot as plt\n",
    "%matplotlib inline\n",
    "\n",
    "cont=0\n",
    "aux1,aux2=[],[]\n",
    "xl,xu,fc1,fc2,fc11,fc22,tab,xu1,xl1,t,vv,aerpv,aerpv1=0.0,1.3,1,1,1,1,[],1.3,0.0,[],1.0,[],[]\n",
    "for l in range (40):\n",
    "    t.append(l)\n",
    "    \n",
    "def funcion(num):\n",
    "    fx=math.pow(num,10)-1\n",
    "    return fx\n",
    "\n",
    "i=0\n",
    "while ((fc1*fc2)!=0):\n",
    "    f2=funcion(xu)\n",
    "    f1=funcion(xl)\n",
    "    xr=xu-(f2*(xl-xu))/(f1-f2)\n",
    "    Erpv=((vv-xr)/(vv))*100\n",
    "    aerpv.append(Erpv)\n",
    "    fc1=funcion(xl)\n",
    "    fc2=funcion(xr)\n",
    "    if ((fc1*fc2)<0):\n",
    "        xu=xr\n",
    "    if((fc1*fc2)>0):\n",
    "        xl=xr\n",
    "    i+=1\n",
    "    if (i==40):\n",
    "        break\n",
    "\n",
    "xr1=0\n",
    "def funcion2(num1):\n",
    "    fx1=math.pow(num1,10)-1\n",
    "    return fx1\n",
    "j=0\n",
    "while ((fc11*fc22)!=0):\n",
    "    xra=xr1\n",
    "    xr1=(xl1+xu1)/2\n",
    "    Erpv1=math.fabs(((vv-xr1)/(vv))*100)\n",
    "    aerpv1.append(Erpv1)\n",
    "    fc11=funcion2(xl1)\n",
    "    fc22=funcion2(xr1)\n",
    "    Ea=math.fabs(((xr1-xra)/xr1)*100)\n",
    "    if ((fc11*fc22)<0):\n",
    "        xu1=xr1\n",
    "    if((fc11*fc22)>0):\n",
    "        xl1=xr1\n",
    "    j+=1\n",
    "    if (j==40):\n",
    "        break   \n",
    "\n",
    "for d in range (10):\n",
    "    diferencia=aerpv[d]-aerpv1[d]\n",
    "    cont+=1\n",
    "    aux1.append(aerpv[d])\n",
    "    aux2.append(aerpv1[d])\n",
    "    tab.append([cont, str(aerpv[d])+\" %\", str(aerpv1[d])+\" %\", diferencia])\n",
    "\n",
    "print tabulate(tab, headers=[\"Iteracion\", \"Error Falsa posicion\", \"Error Biseccion\", \"Diferencia\"], tablefmt=\"pipe\")\n",
    "plt.plot (t, aerpv, 'm-', linewidth=3.0,label='Error relativo metodo falsa posicion')\n",
    "plt.plot (t, aerpv1,'g-',linewidth=3.0,label='Error relativo metodo biseccion')\n",
    "plt.legend(loc = 'upper right', numpoints = 1)\n",
    "plt.show()"
   ]
  },
  {
   "cell_type": "code",
   "execution_count": null,
   "metadata": {
    "collapsed": true
   },
   "outputs": [],
   "source": []
  }
 ],
 "metadata": {
  "kernelspec": {
   "display_name": "Python 2",
   "language": "python",
   "name": "python2"
  },
  "language_info": {
   "codemirror_mode": {
    "name": "ipython",
    "version": 2
   },
   "file_extension": ".py",
   "mimetype": "text/x-python",
   "name": "python",
   "nbconvert_exporter": "python",
   "pygments_lexer": "ipython2",
   "version": "2.7.11"
  }
 },
 "nbformat": 4,
 "nbformat_minor": 0
}
