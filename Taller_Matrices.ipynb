{
 "cells": [
  {
   "cell_type": "markdown",
   "metadata": {},
   "source": [
    "# Taller Chapra 9.1 - 9.8"
   ]
  },
  {
   "cell_type": "markdown",
   "metadata": {},
   "source": [
    "9.1 a) Escriba en forma matricial el conjunto siguiente de ecuaciones: \n",
    "50 = 5*X3+2*X2 // 10–X1=X3 // 3*X2+8*X1=20 \n",
    "b) Escriba la transpuesta de la matriz de coeficientes."
   ]
  },
  {
   "cell_type": "code",
   "execution_count": 15,
   "metadata": {
    "collapsed": false
   },
   "outputs": [
    {
     "name": "stdout",
     "output_type": "stream",
     "text": [
      "La matriz de coeficientes es: \n",
      "[[0, 2, 5], [1, 0, 1], [8, 3, 0]]\n",
      "La matriz transpuesta es: \n",
      "[[0, 1, 8], [2, 0, 3], [5, 1, 0]]\n"
     ]
    }
   ],
   "source": [
    "matriz=[[0,2,5],[1,0,1],[8,3,0]]\n",
    "matrizTr=[]\n",
    "for i in range(3):#filas\n",
    "    matrizTr.append([])\n",
    "    for j in range(3):#columnas\n",
    "        matrizTr[i].append(matriz[j][i])\n",
    "\n",
    "print \"La matriz de coeficientes es: \"\n",
    "print matriz\n",
    "print \"La matriz transpuesta es: \"\n",
    "print matrizTr"
   ]
  },
  {
   "cell_type": "markdown",
   "metadata": {},
   "source": [
    "9.2 Ciertas matrices están definidas como sigue: a) A=[[4,7],[1,2],[5,6]] b) B=[[4,3,7],[1,2,7],[1,0,4]] c) C=[3,6,1] d) D=[[9,4,3,-6],[2,-1,7,5]] e) E=[[1,5,8],[7,2,3],[4,0,6]] f) F=[[3,0,1],[1,7,3]] g) G=[7,6,4]. En relación con estas matrices, responda:"
   ]
  },
  {
   "cell_type": "code",
   "execution_count": 1,
   "metadata": {
    "collapsed": false
   },
   "outputs": [
    {
     "name": "stdout",
     "output_type": "stream",
     "text": [
      "1) La suma de las matrices E+B es: \n",
      "[[5, 8, 15], [8, 4, 10], [5, 0, 10]]\n",
      "\n",
      "2) La suma de las matrices A+F no se puede realizar porque no tienen la misma dimension mxn\n",
      "\n",
      "3) La resta de las matrices B-E es: \n",
      "[[3, -2, -1], [-6, 0, 4], [-3, 0, -2]]\n",
      "\n",
      "4) Al multiplicar [B] por el escalar 7, tenemos: \n",
      "[[28, 21, 49], [7, 14, 49], [7, 0, 28]]\n",
      "\n",
      "5)El producto entre las matrices ExB es: \n",
      "[[17, 13, 74], [33, 25, 75], [22, 12, 52]]\n",
      "\n",
      "6) La transpuesta de {C} es: \n",
      "[[3, 6, 1]]\n",
      "\n",
      "7)El producto entre las matrices BxA es: \n",
      "[[54, 76], [41, 53], [24, 31]]\n",
      "\n",
      "8)La transpuesta de [D] es: \n",
      "[[9, 2], [4, -1], [3, 7], [-6, 5]]\n",
      "\n",
      "9) El producto [A]x{C} no se puede realizar porque el numero de columnas de A, \n",
      "NO coincide con el numero de filas de C\n",
      "\n",
      "10) El producto de [I]x[B] es: \n",
      "[[4, 3, 7], [1, 2, 7], [1, 0, 4]]\n",
      "\n",
      "11) El producto de [E]^T x [E] es: \n",
      "[[66, 19, 53], [19, 29, 46], [53, 46, 109]]\n",
      "\n",
      "12) El producto de {C}^T x {C} es: \n",
      "[[46]]\n"
     ]
    }
   ],
   "source": [
    "#a)¿Cuáles son las dimensiones de las matrices? Rta= [A]:3x2 , [B]: 3X3, [C]: 3X1, [D]: 2X4, [E]: 3X3, [F]: 2X3, [G]: 1X3\n",
    "#b)Identifique las matrices cuadrada, columna y renglón. Rta= Cuadrada: [B] y [E]; Columna: [C]; Renglón: [G]\n",
    "#c)¿Cuáles son los valores de a12,b23,d32,e22,f12 y g12? Rta= a12=7; b23=7; d32=no existe el elemento; e22=2; f12=0; g12=6.\n",
    "#d)Ejecute las operaciones:\n",
    "A=[[4,7],[1,2],[5,6]]\n",
    "B=[[4,3,7],[1,2,7],[1,0,4]]\n",
    "C=[[3],[6],[1]]\n",
    "D=[[9,4,3,-6],[2,-1,7,5]]\n",
    "E=[[1,5,8],[7,2,3],[4,0,6]]\n",
    "F=[[3,0,1],[1,7,3]]\n",
    "G=[7,6,4]\n",
    "I=[[1,0,0],[0,1,0],[0,0,1]]\n",
    "\n",
    "#1)[E]+[B]\n",
    "sumaEB=[]\n",
    "for i in range(3):#filas\n",
    "    sumaEB.append([])\n",
    "    for j in range(3):#columnas\n",
    "        sumaEB[i].append(E[i][j]+B[i][j])\n",
    "\n",
    "print \"1) La suma de las matrices E+B es: \"\n",
    "print sumaEB\n",
    "\n",
    "#2)[A]+[F]\n",
    "print \"\\n2) La suma de las matrices A+F no se puede realizar porque no tienen la misma dimension mxn\"\n",
    "\n",
    "#3)[B]-[E]\n",
    "restaBE=[]\n",
    "for i in range(3):#filas\n",
    "    restaBE.append([])\n",
    "    for j in range(3):#columnas\n",
    "         restaBE[i].append(B[i][j]-E[i][j])\n",
    "\n",
    "print \"\\n3) La resta de las matrices B-E es: \"\n",
    "print restaBE\n",
    "\n",
    "#4)7x[B]\n",
    "escalar=[]\n",
    "for i in range(3):#filas\n",
    "    escalar.append([])\n",
    "    for j in range(3):#columnas\n",
    "         escalar[i].append(7*B[i][j])\n",
    "\n",
    "print \"\\n4) Al multiplicar [B] por el escalar 7, tenemos: \"\n",
    "print escalar\n",
    "\n",
    "def multiplicacion(a,b):\n",
    "    product=[]\n",
    "    for i in range(len(a)):\n",
    "        product.append([0]*(len(b[0])))\n",
    "    for i in range(len(a)):\n",
    "        for j in range(len(b[0])):\n",
    "            for k in range(len(a[0])):\n",
    "                product[i][j]+= a[i][k]*b[k][j]\n",
    "    return product\n",
    "\n",
    "def transpuesta(a):\n",
    "    trans=[]\n",
    "    for i in range(len(a[0])):\n",
    "        trans.append(len(a)*[0])\n",
    "        for j in range(len(trans[0])):\n",
    "            for k in range(len(trans)):\n",
    "                trans[k][j]=a[j][k]\n",
    "    return trans\n",
    "#5[E]x[B]\n",
    "print \"\\n5)El producto entre las matrices ExB es: \"\n",
    "print multiplicacion(E,B)\n",
    "\n",
    "#6){C}^T\n",
    "print \"\\n6) La transpuesta de {C} es: \"\n",
    "print transpuesta(C)\n",
    "\n",
    "#7) [B]x[A]\n",
    "print \"\\n7)El producto entre las matrices BxA es: \"\n",
    "print multiplicacion(B,A)\n",
    "\n",
    "#8)[D]^T\n",
    "print \"\\n8)La transpuesta de [D] es: \"        \n",
    "print transpuesta(D)\n",
    "\n",
    "#9)[A]x{C}\n",
    "print \"\\n9) El producto [A]x{C} no se puede realizar porque el numero de columnas de A, \\nNO coincide con el numero de filas de C\"\n",
    "\n",
    "#10)[F]x[B]\n",
    "print \"\\n10) El producto de [I]x[B] es: \"            \n",
    "print multiplicacion(I,B)\n",
    "\n",
    "#11)[E]^T x [E] --> transpuesta de la matriz E por la matriz E           \n",
    "print \"\\n11) El producto de [E]^T x [E] es: \"\n",
    "print multiplicacion(transpuesta(E),E)\n",
    "\n",
    "#12) {C}^T x {C}--> producto de la transpuesta de la matriz C por la matriz C\n",
    "print \"\\n12) El producto de {C}^T x {C} es: \"\n",
    "print multiplicacion(transpuesta(C),C)"
   ]
  },
  {
   "cell_type": "markdown",
   "metadata": {},
   "source": [
    "9.3 Se definen tres matrices como sigue: A=[[1,6],[3,10],[7,4]]; B=[[1,3],[0.5, 2]]; C=[[2,-2],[-3,1]]"
   ]
  },
  {
   "cell_type": "code",
   "execution_count": 29,
   "metadata": {
    "collapsed": false
   },
   "outputs": [
    {
     "name": "stdout",
     "output_type": "stream",
     "text": [
      "\n",
      "a)\n",
      " *La multiplicacion de las matrices [A]x[B] es:\n",
      "[[4.0, 15], [8.0, 29], [9.0, 29]]\n",
      "\n",
      "   *La multiplicacion de las matrices [A]x[C] es:\n",
      "[[-16, 4], [-24, 4], [2, -10]]\n",
      "\n",
      "   *La multiplicacion de las matrices [B]x[C] es:\n",
      "[[-7, 1], [-5.0, 1.0]]\n",
      "\n",
      "   *La multiplicacion de las matrices [C]x[B] es:\n",
      "[[1.0, 2], [-2.5, -7]]\n",
      "\n",
      "b)\n",
      "*La multiplicacion [B]x[A]: \n",
      "No se pueden multiplicar las matrices porque el numero de columnas de la primera matriz NO es igual\n",
      "al numero de filas de la segunda matriz.\n",
      "\n",
      "   *La multiplicacion [C]x[A]: \n",
      "No se pueden multiplicar las matrices porque el numero de columnas de la primera matriz NO es igual\n",
      "al numero de filas de la segunda matriz.\n",
      "\n",
      "c) Con los resultados anteriores, se puede observar que el producto entre matrices no cumple con la\n",
      "propiedad conmutativa. Miremos que [B]x[C] NO es igual a [C]x[B]\n"
     ]
    }
   ],
   "source": [
    "#a) Ejecute todas las multiplicaciones que sea posible calcular entre parejas de las matrices.\n",
    "A=[[1,6],[3,10],[7,4]]\n",
    "B=[[1,3],[0.5, 2]]\n",
    "C=[[2,-2],[-3,1]]\n",
    "def multiplicacion(a,b):\n",
    "    product=[]\n",
    "    for i in range(len(a)):\n",
    "        product.append([0]*(len(b[0])))\n",
    "    for i in range(len(a)):\n",
    "        for j in range(len(b[0])):\n",
    "            for k in range(len(a[0])):\n",
    "                product[i][j]+= a[i][k]*b[k][j]\n",
    "    return product\n",
    "\n",
    "def verificar(matriz1,matriz2):\n",
    "    if(len(matriz1[0])!=len(matriz2)):\n",
    "        print \"No se pueden multiplicar las matrices porque el numero de columnas de la primera matriz NO es igual\\nal numero de filas de la segunda matriz.\"\n",
    "    if(len(matriz1[0])==len(matriz2)):\n",
    "        resultado=multiplicacion(matriz1,matriz2)\n",
    "        return resultado\n",
    "    \n",
    "print \"\\na)\\n *La multiplicacion de las matrices [A]x[B] es:\" \n",
    "print verificar(A,B)\n",
    "print \"\\n   *La multiplicacion de las matrices [A]x[C] es:\" \n",
    "print verificar(A,C)\n",
    "print \"\\n   *La multiplicacion de las matrices [B]x[C] es:\" \n",
    "print verificar(B,C)\n",
    "print \"\\n   *La multiplicacion de las matrices [C]x[B] es:\" \n",
    "print verificar(C,B)\n",
    "\n",
    "print \"\\nb)\\n*La multiplicacion [B]x[A]: \"\n",
    "verificar(B,A)\n",
    "print \"\\n   *La multiplicacion [C]x[A]: \"\n",
    "verificar(C,A)\n",
    "print \"\\nc) Con los resultados anteriores, se puede observar que el producto entre matrices no cumple con la\\npropiedad conmutativa. Miremos que [B]x[C] NO es igual a [C]x[B]\""
   ]
  },
  {
   "cell_type": "markdown",
   "metadata": {},
   "source": [
    "9.4 Use el método gráfico para resolver el sistema siguiente: 4*X1-8*X2=-24; X1+6*X2=34. Compruebe el resultado por medio de sustituirlo en las ecuaciones."
   ]
  },
  {
   "cell_type": "code",
   "execution_count": 130,
   "metadata": {
    "collapsed": false
   },
   "outputs": [
    {
     "name": "stdout",
     "output_type": "stream",
     "text": [
      "La solucion para X1= 4\n",
      "La solucion para X2= 5\n"
     ]
    },
    {
     "data": {
      "image/png": "[encoded data removed]",
      "text/plain": [
       "<matplotlib.figure.Figure at 0xd645a20>"
      ]
     },
     "metadata": {},
     "output_type": "display_data"
    },
    {
     "name": "stdout",
     "output_type": "stream",
     "text": [
      "El resultado de la primera ecuacion es: -24\n",
      "El resultado de la segunda ecuacion es: 34\n"
     ]
    }
   ],
   "source": [
    "import matplotlib.pyplot as plt\n",
    "%matplotlib inline\n",
    "\n",
    "valores, funcion1, funcion2=[],[],[]\n",
    "a,b,c=0,0,0\n",
    "for i in range (10):\n",
    "    x2=((1.0/2.0)*i)+3.0\n",
    "    x2b=((-1.0/6.0)*i)+(34.0/6.0)\n",
    "    valores.append(i)\n",
    "    funcion1.append(x2)\n",
    "    funcion2.append(x2b)\n",
    "\n",
    "while c<=10:\n",
    "    fx1=(-32*a)+136\n",
    "    fx2=(4*a)+18\n",
    "    if(fx1==-24):\n",
    "        print \"La solucion para X2= %d\"%a\n",
    "        punto1=a\n",
    "    if(fx2==34):\n",
    "        print \"La solucion para X1= %d\"%b\n",
    "        punto2=b\n",
    "    a+=1\n",
    "    b+=1\n",
    "    c+=1\n",
    "    \n",
    "plt.title(\"Sistema de ecuaciones\")\n",
    "plt.grid(True)\n",
    "plt.axis([0,10,0,10])\n",
    "plt.ylabel('x2')\n",
    "plt.xlabel('x1')\n",
    "plt.plot(valores, funcion1, 'g-', linewidth=1.5)\n",
    "plt.plot(valores, funcion2, 'r-',linewidth=1.5)\n",
    "plt.plot(punto2,punto1, 'bo', label=\"Pto corte:\\nx1=4\\nx2=5\")\n",
    "plt.legend(loc = 'upper right', numpoints = 1)\n",
    "plt.show()\n",
    "\n",
    "ecuacion1=4*punto2-8*punto1\n",
    "print \"El resultado de la primera ecuacion es: %d\" %ecuacion1\n",
    "ecuacion2=punto2+6*punto1\n",
    "print \"El resultado de la segunda ecuacion es: %d\" %ecuacion2"
   ]
  },
  {
   "cell_type": "markdown",
   "metadata": {},
   "source": [
    "9.5 Dado el sistema de ecuaciones siguiente: –1.1*X1+10*X2=120; –2*X1+17.4*X2=17"
   ]
  },
  {
   "cell_type": "code",
   "execution_count": 2,
   "metadata": {
    "collapsed": false
   },
   "outputs": [
    {
     "name": "stdout",
     "output_type": "stream",
     "text": [
      "a)\n",
      " Por metodo grafico obtenemos que:\n",
      "\n",
      "La solucion de X2 es:  56.44\n",
      "La solucion de X2 es:  56.55\n",
      "La solucion de X1 es:  405.0\n"
     ]
    },
    {
     "data": {
      "image/png": "[encoded data removed]",
      "text/plain": [
       "<matplotlib.figure.Figure at 0x9ff4c88>"
      ]
     },
     "metadata": {},
     "output_type": "display_data"
    },
    {
     "name": "stdout",
     "output_type": "stream",
     "text": [
      "Reemplazamos los valores de X1 y X2 y son cercanos a los valores reales: \n",
      "El resultado para la primera ecuacion es 120.00\n",
      "El resultado para la segunda ecuacion es 173.97\n",
      "\n",
      "b)\n",
      "El sistema se satisface con dos valores para X2. Esto se apoya en que el determinante es proximo a cero, y el sistema\n",
      " y el sistema tienda a tener varias soluciones.\n",
      "\n",
      "c)\n",
      "El determinante de la matriz de coeficientes es: 0.86\n",
      "\n",
      "d) Por eliminacion de incognitas: \n",
      "    El valor de X1 es= 404.6512\n",
      "    El valor de X2 es= 56.5116\n"
     ]
    }
   ],
   "source": [
    "import math\n",
    "import matplotlib.pyplot as plt\n",
    "%matplotlib inline\n",
    "#a)Resuélvalo gráficamente y compruebe el resultado con la sustitución en las ecuaciones.\n",
    "equis1, funcion1, funcion2=[],[],[]\n",
    "i=0\n",
    "print \"a)\\n Por metodo grafico obtenemos que:\\n\"\n",
    "while i<500:\n",
    "    x2=float(format((0.11*i)+12.0, '.4g'))\n",
    "    x2b=float(format(((2.0/17.4)*i)+10, '.4g'))\n",
    "    equis1.append(i)\n",
    "    funcion1.append(x2)\n",
    "    funcion2.append(x2b)\n",
    "    if(x2==x2b):\n",
    "        x=x2\n",
    "        x1=((10.0*x)-120)/1.1\n",
    "        print \"La solucion de X2 es: \", x\n",
    "    i+=1\n",
    "print \"La solucion de X1 es: \",x1\n",
    "a=x1\n",
    "b=x2\n",
    "plt.title(\"Sistema de ecuaciones\")\n",
    "plt.grid(True)\n",
    "plt.axis([380,430,53,60])\n",
    "plt.ylabel('x2')\n",
    "plt.xlabel('x1')\n",
    "plt.axhline(0, color=\"black\")\n",
    "plt.plot(equis1, funcion1, 'm-', linewidth=1.0)\n",
    "plt.plot(equis1, funcion2, 'y-',linewidth=1.0)\n",
    "plt.plot(405,56.55, 'co', label=\"Pto corte:\\nx1=404.6512\\nx2=56.5116\")\n",
    "plt.legend(loc = 'upper right', numpoints = 1)\n",
    "plt.show()\n",
    "\n",
    "print \"Reemplazamos los valores de X1 y X2 y son cercanos a los valores reales: \"\n",
    "ecuacion1=-1.1*x1+10*x\n",
    "print \"El resultado para la primera ecuacion es %.2f\" %ecuacion1\n",
    "ecuacion2=-2*x1+17.4*x\n",
    "print \"El resultado para la segunda ecuacion es %.2f\" %ecuacion2\n",
    "print \"\\nb)\\nEl sistema se satisface con dos valores para X2. Esto se apoya en que el determinante es proximo a cero, y el sistema\\n y el sistema tienda a tener varias soluciones.\"\n",
    "\n",
    "#determinante\n",
    "matrizCoef=[[-1.1,10],[-2,17.4]]\n",
    "det=matrizCoef[0][0]*matrizCoef[1][1]-matrizCoef[0][1]*matrizCoef[1][0]\n",
    "print \"\\nc)\\nEl determinante de la matriz de coeficientes es: %.2f\" %det\n",
    "\n",
    "#eliminacion de incognitas\n",
    "aux=[]\n",
    "sol=[120,174]\n",
    "aux2=[]\n",
    "for i in range(len(matrizCoef)):\n",
    "    aux.append([])\n",
    "    if(i==0):\n",
    "        for j in range(len(matrizCoef[0])):\n",
    "            aux[i].append(matrizCoef[1][0]*matrizCoef[i][j])\n",
    "        aux2.append(matrizCoef[1][0]*sol[i])\n",
    "    else:\n",
    "        for j in range(len(matrizCoef[1])):\n",
    "            aux[i].append(matrizCoef[0][0]*matrizCoef[i][j])\n",
    "        aux2.append(matrizCoef[0][0]*sol[i])\n",
    "print \"\\nd) Por eliminacion de incognitas: \"\n",
    "var2=(aux2[0]-aux2[1])/(aux[0][1]-aux[1][1])\n",
    "var1=(sol[0]-matrizCoef[0][1]*var2)/matrizCoef[0][0]\n",
    "print \"    El valor de X1 es= %.4f\" %var1\n",
    "print \"    El valor de X2 es= %.4f\" %var2"
   ]
  },
  {
   "cell_type": "markdown",
   "metadata": {},
   "source": [
    "9.6 Para el sistema de ecuaciones que sigue: 2*X2+5*X3=9; 2*X1+X2+X3=9; 3*X1+X2=10.  a)  Calcule el determinante. b)  Use la regla de Cramer para encontrar cuál es el valor de las x. c)  Sustituya el resultado en las ecuaciones originales para efectos de comprobación"
   ]
  },
  {
   "cell_type": "code",
   "execution_count": 138,
   "metadata": {
    "collapsed": false
   },
   "outputs": [
    {
     "name": "stdout",
     "output_type": "stream",
     "text": [
      "\n",
      "a) El determinante de la matriz de coeficientes es= 1\n",
      "b)\n",
      "    La solución para X1= 6\n",
      "    La solución para X2= -8\n",
      "    La solución para X3= 5\n",
      "c)\n",
      "    El valor sustituido satisface la ecuacion #1. El resultado es=9\n",
      "    El valor sustituido satisface la ecuacion #2. El resultado es=9\n",
      "    El valor sustituido satisface la ecuacion #3. El resultado es=10\n"
     ]
    }
   ],
   "source": [
    "#a) Determinante\n",
    "matriz=[[0,2,5],[2,1,1],[3,1,0]]\n",
    "solucion=[9,9,10]\n",
    "\n",
    "det=(matriz[0][0]*(matriz[1][1]*matriz[2][2]-matriz[1][2]*matriz[2][1]))-(matriz[0][1]*(matriz[1][0]*matriz[2][2]-matriz[1][2]*matriz[2][0]))+(matriz[0][2]*(matriz[1][0]*matriz[2][1]-matriz[1][1]*matriz[2][0]))\n",
    "print \"\\na) El determinante de la matriz de coeficientes es= %d\"%det \n",
    "\n",
    "d1=(solucion[0]*(matriz[1][1]*matriz[2][2]-matriz[1][2]*matriz[2][1]))-(solucion[1]*(matriz[0][1]*matriz[2][2]-matriz[2][1]*matriz[0][2]))+(solucion[2]*(matriz[0][1]*matriz[1][2]-matriz[1][1]*matriz[0][2]))\n",
    "\n",
    "d2=-1*(solucion[0]*(matriz[1][0]*matriz[2][2]-matriz[2][0]*matriz[1][2]))+(solucion[1]*(matriz[0][0]*matriz[2][2]-matriz[2][0]*matriz[0][2]))-(solucion[2]*(matriz[0][0]*matriz[1][2]-matriz[1][0]*matriz[0][2]))\n",
    "\n",
    "d3=(solucion[0]*(matriz[1][0]*matriz[2][1]-matriz[2][0]*matriz[1][1]))-(solucion[1]*(matriz[0][0]*matriz[2][1]-matriz[2][0]*matriz[0][1]))+(solucion[2]*(matriz[0][0]*matriz[1][1]-matriz[1][0]*matriz[0][1]))\n",
    "\n",
    "x1=d1/det\n",
    "x2=d2/det\n",
    "x3=d3/det\n",
    "\n",
    "print \"b)\\n    La solución para X1= %d\"%x1\n",
    "print \"    La solución para X2= %d\"%x2\n",
    "print \"    La solución para X3= %d\"%x3\n",
    "\n",
    "ecuacion1=2*x2+5*x3\n",
    "ecuacion2=2*x1+x2+x3\n",
    "ecuacion3=3*x1+x2\n",
    "\n",
    "if(ecuacion1==solucion[0]):\n",
    "    print \"c)\\n    El valor sustituido satisface la ecuacion #1. El resultado es=%d\"%ecuacion1\n",
    "if(ecuacion2==solucion[1]):\n",
    "    print \"    El valor sustituido satisface la ecuacion #2. El resultado es=%d\"%ecuacion2\n",
    "if(ecuacion3==solucion[2]):\n",
    "    print \"    El valor sustituido satisface la ecuacion #3. El resultado es=%d\"%ecuacion3"
   ]
  },
  {
   "cell_type": "markdown",
   "metadata": {},
   "source": [
    "9.7 Dadas las ecuaciones: 0.5*X1–X2=–9.5; 1.02*X1–2*X2=–18.8. a)  Resuelva en forma gráfica. b)  Calcule el determinante. c)  Con base en los incisos a) y b), ¿qué es de esperarse con respecto de la condición del sistema? d)  Resuelva por medio de la eliminación de incógnitas. e)  Resuelva otra vez, pero modifique ligeramente el elemento a11 a 0.52. Interprete sus resultados. "
   ]
  },
  {
   "cell_type": "code",
   "execution_count": 205,
   "metadata": {
    "collapsed": false
   },
   "outputs": [
    {
     "name": "stdout",
     "output_type": "stream",
     "text": [
      "\n",
      "a) La solucion para X1= 10\n",
      "   La solucion para X2= 14.5\n"
     ]
    },
    {
     "data": {
      "image/png": "[encoded data removed]",
      "text/plain": [
       "<matplotlib.figure.Figure at 0xda7b0f0>"
      ]
     },
     "metadata": {},
     "output_type": "display_data"
    },
    {
     "name": "stdout",
     "output_type": "stream",
     "text": [
      "\n",
      "b) El determinante de la matriz de coeficientes es: 0.02\n",
      "\n",
      "c) Dado que el det se aproxima a 0, el sistema podria tener otras soluciones(asi sea que varien por unos decimales).\n",
      "\n",
      "d) Por eliminacion de incognitas: \n",
      "    El valor de X1 es= 10\n",
      "    El valor de X2 es= 14.5\n"
     ]
    }
   ],
   "source": [
    "#a) Gráfica\n",
    "import math\n",
    "import matplotlib.pyplot as plt\n",
    "%matplotlib inline\n",
    "\n",
    "valores, funcion1, funcion2=[],[],[]\n",
    "a,b,c=0,0,-40\n",
    "i=-70\n",
    "for i in range (-70,100):\n",
    "    x2=(0.5*i)+9.5\n",
    "    x2b=0.51*i+9.4\n",
    "    valores.append(i)\n",
    "    funcion1.append(x2)\n",
    "    funcion2.append(x2b)\n",
    "while c<=1000:\n",
    "    fx1=0.02*a-19\n",
    "    fx2=(((1.0/1.02)-1.0)*b)-(9.4/1.02)\n",
    "    if(fx1==-18.8):\n",
    "        print \"\\na) La solucion para X1= %.0f\"%a\n",
    "        punto1=a\n",
    "    if(fx2==-9.5):\n",
    "        print \"   La solucion para X2= %.1f\"%b\n",
    "        punto2=b\n",
    "    a+=0.1\n",
    "    b+=0.1\n",
    "    c+=1\n",
    "plt.title(\"Sistema de ecuaciones\")\n",
    "plt.grid(True)\n",
    "plt.axis([-50,70,-80,80])\n",
    "plt.ylabel('x2')\n",
    "plt.xlabel('x1')\n",
    "plt.plot(valores, funcion1, 'g-', linewidth=1.0)\n",
    "plt.plot(valores, funcion2, 'y-', linewidth=1.0)\n",
    "plt.plot(punto1,punto2, 'bo', label=\"Pto corte:\\nx1=10\\nx2=14.5\")\n",
    "plt.legend(loc = 'upper right', numpoints = 1)\n",
    "plt.show()\n",
    "\n",
    "#determinante\n",
    "matrizCoef=[[0.5,-1],[1.02,-2]]\n",
    "det=matrizCoef[0][0]*matrizCoef[1][1]-matrizCoef[0][1]*matrizCoef[1][0]\n",
    "print \"\\nb) El determinante de la matriz de coeficientes es: %.2f\" %det\n",
    "print \"\\nc) Dado que el det se aproxima a 0, el sistema podria tener otras soluciones(asi sea que varien por unos decimales).\"\n",
    "\n",
    "#eliminacion incognitas\n",
    "aux=[]\n",
    "sol=[-9.5,-18.8]\n",
    "aux2=[]\n",
    "for i in range(len(matrizCoef)):\n",
    "    aux.append([])\n",
    "    if(i==0):\n",
    "        for j in range(len(matrizCoef[0])):\n",
    "            aux[i].append(matrizCoef[1][0]*matrizCoef[i][j])\n",
    "        aux2.append(matrizCoef[1][0]*sol[i])\n",
    "    else:\n",
    "        for j in range(len(matrizCoef[1])):\n",
    "            aux[i].append(matrizCoef[0][0]*matrizCoef[i][j])\n",
    "        aux2.append(matrizCoef[0][0]*sol[i])\n",
    "print \"\\nd) Por eliminacion de incognitas: \"\n",
    "var2=(aux2[0]-aux2[1])/(aux[0][1]-aux[1][1])\n",
    "var1=(sol[0]-matrizCoef[0][1]*var2)/matrizCoef[0][0]\n",
    "print \"    El valor de X1 es= %.0f\" %var1\n",
    "print \"    El valor de X2 es= %.1f\" %var2"
   ]
  },
  {
   "cell_type": "code",
   "execution_count": 222,
   "metadata": {
    "collapsed": false
   },
   "outputs": [
    {
     "name": "stdout",
     "output_type": "stream",
     "text": [
      "\n",
      "e) REPITIENDO TODO LO ANTERIOR PERO CAMBIANDO a11 por 0.52:\n",
      "\n",
      "a)  La solucion para X1= -10\n",
      "    La solucion para X2= 4.3\n"
     ]
    },
    {
     "data": {
      "image/png": "[encoded data removed]",
      "text/plain": [
       "<matplotlib.figure.Figure at 0xb006278>"
      ]
     },
     "metadata": {},
     "output_type": "display_data"
    },
    {
     "name": "stdout",
     "output_type": "stream",
     "text": [
      "\n",
      "b) El determinante de la matriz de coeficientes es: -0.02\n",
      "\n",
      "c) Dado que el det se aproxima a 0, el sistema podria tener otras soluciones(asi sea que varien por unos decimales).\n",
      "\n",
      "d) Por eliminacion de incognitas: \n",
      "    El valor de X1 es= -10\n",
      "    El valor de X2 es= 4.3\n"
     ]
    }
   ],
   "source": [
    "#numeral e) del 9.7 \n",
    "#a) Gráfica\n",
    "import math\n",
    "import matplotlib.pyplot as plt\n",
    "%matplotlib inline\n",
    "\n",
    "valores, funcion1, funcion2=[],[],[]\n",
    "a,b,c=-20,0,-40\n",
    "i=-70\n",
    "print \"\\ne) REPITIENDO TODO LO ANTERIOR PERO CAMBIANDO a11 por 0.52:\\n\"\n",
    "\n",
    "for i in range (-70,100):\n",
    "    x2=(0.52*i)+9.5\n",
    "    x2b=0.51*i+9.4\n",
    "    valores.append(i)\n",
    "    funcion1.append(x2)\n",
    "    funcion2.append(x2b)\n",
    "\n",
    "while c<=1000:\n",
    "    fx1=-0.02*a-19\n",
    "    fx2=(((1.04/1.02)-1.0)*b)-(9.776/1.02)\n",
    "    if(fx1==-18.8):\n",
    "        print \"a)  La solucion para X1= %d\"%a\n",
    "        punto1=a\n",
    "    if(fx2==-9.5):\n",
    "        print \"    La solucion para X2= %.1f\"%b\n",
    "        punto2=b\n",
    "    a+=1\n",
    "    b+=0.1\n",
    "    c+=1\n",
    "plt.title(\"Sistema de ecuaciones\")\n",
    "plt.grid(True)\n",
    "plt.axis([-50,70,-60,80])\n",
    "plt.ylabel('x2')\n",
    "plt.xlabel('x1')\n",
    "plt.plot(valores, funcion1, 'm-', linewidth=1.0)\n",
    "plt.plot(valores, funcion2, 'y-', linewidth=1.0)\n",
    "plt.plot(punto1,punto2, '*', label=\"Pto corte:\\nx1=-10\\nx2=4.3\")\n",
    "plt.legend(loc = 'upper right', numpoints = 1)\n",
    "plt.show()\n",
    "\n",
    "#determinante\n",
    "matrizCoef=[[0.52,-1],[1.02,-2]]\n",
    "det=matrizCoef[0][0]*matrizCoef[1][1]-matrizCoef[0][1]*matrizCoef[1][0]\n",
    "print \"\\nb) El determinante de la matriz de coeficientes es: %.2f\" %det\n",
    "print \"\\nc) Dado que el det se aproxima a 0, el sistema podria tener otras soluciones(asi sea que varien por unos decimales).\"\n",
    "\n",
    "#eliminacion incognitas\n",
    "aux=[]\n",
    "sol=[-9.5,-18.8]\n",
    "aux2=[]\n",
    "for i in range(len(matrizCoef)):\n",
    "    aux.append([])\n",
    "    if(i==0):\n",
    "        for j in range(len(matrizCoef[0])):\n",
    "            aux[i].append(matrizCoef[1][0]*matrizCoef[i][j])\n",
    "        aux2.append(matrizCoef[1][0]*sol[i])\n",
    "    else:\n",
    "        for j in range(len(matrizCoef[1])):\n",
    "            aux[i].append(matrizCoef[0][0]*matrizCoef[i][j])\n",
    "        aux2.append(matrizCoef[0][0]*sol[i])\n",
    "print \"\\nd) Por eliminacion de incognitas: \"\n",
    "var2=(aux2[0]-aux2[1])/(aux[0][1]-aux[1][1])\n",
    "var1=(sol[0]-matrizCoef[0][1]*var2)/matrizCoef[0][0]\n",
    "print \"    El valor de X1 es= %.0f\" %var1\n",
    "print \"    El valor de X2 es= %.1f\" %var2"
   ]
  },
  {
   "cell_type": "markdown",
   "metadata": {},
   "source": [
    "9.8 Dadas las ecuaciones siguientes: 10*X1+2*X2–X3=27; –3*X1–6*X2+2*X3=–61.5; X1+X2+5*X3=–21.5. a) Resuelva por eliminación de Gauss simple. Efectúe todos los pasos del cálculo. b)  Sustituya los resultados en las ecuaciones originales a fin de comprobar sus respuestas. "
   ]
  },
  {
   "cell_type": "code",
   "execution_count": 5,
   "metadata": {
    "collapsed": false
   },
   "outputs": [
    {
     "name": "stdout",
     "output_type": "stream",
     "text": [
      "a) Por metodo de Gauss simple:\n",
      " \n",
      "El valor de la incognita X1 es 0.5\n",
      "El valor de la incognita X2 es 8.0\n",
      "El valor de la incognita X3 es -6.0\n",
      "\n",
      "b) Sustituyendo los valores:\n",
      " \n",
      "El resultado para la primera ecuacion es  27.0\n",
      "El resultado para la segunda ecuacion es  -61.5\n",
      "El resultado para la tercera ecuacion es  -21.5\n"
     ]
    }
   ],
   "source": [
    "matrizCoef=[[10.0,2.0,-1.0],[-3.0,-6.0, 2.0],[1.0,1.0,5.0]]\n",
    "sol=[27.0,-61.5,-21.5]\n",
    "x,d,y,i,j,k=[],0.0,0.0,0,0,0\n",
    "n=len(matrizCoef)\n",
    "\n",
    "for m in range (len(matrizCoef)):\n",
    "    x.append(0*len(matrizCoef[0]))\n",
    "\n",
    "print \"a) Por metodo de Gauss simple:\\n \"\n",
    "\n",
    "for i in range(0,n):\n",
    "    for j in range(i,n):\n",
    "        if(i==j):\n",
    "            d=matrizCoef[i][j]\n",
    "            for s in range (0,n):\n",
    "                matrizCoef[i][s]=((matrizCoef[i][s])/d)\n",
    "            sol[i]=((sol[i])/d)\n",
    "        else:\n",
    "            d=matrizCoef[j][i]\n",
    "            for s in range (0,n):\n",
    "                matrizCoef[j][s]=matrizCoef[j][s]-(d*matrizCoef[i][s])\n",
    "            sol[j]=sol[j]-(d*sol[i])\n",
    "i=n-1\n",
    "j=n-1\n",
    "\n",
    "while(i>=0):\n",
    "    y=sol[i]\n",
    "    while(j>=i):\n",
    "        y=y-x[j]*matrizCoef[i][j]\n",
    "        j-=1\n",
    "    x[i]=y\n",
    "    i-=1\n",
    "    j=n-1\n",
    "for i in range (0,n):\n",
    "    k=i+1\n",
    "    print \"El valor de la incognita X%d es %.1f\"%(k,x[i])\n",
    "    \n",
    "print \"\\nb) Sustituyendo los valores:\\n \"\n",
    "ecuacionA=10*x[0]+2*x[1]-x[2]\n",
    "ecuacionB=-3*x[0]-6*x[1]+2*x[2]\n",
    "ecuacionC=x[0]+x[1]+5*x[2]\n",
    "\n",
    "print \"El resultado para la primera ecuacion es \",ecuacionA\n",
    "print \"El resultado para la segunda ecuacion es \",ecuacionB\n",
    "print \"El resultado para la tercera ecuacion es \",ecuacionC"
   ]
  },
  {
   "cell_type": "code",
   "execution_count": null,
   "metadata": {
    "collapsed": true
   },
   "outputs": [],
   "source": []
  }
 ],
 "metadata": {
  "kernelspec": {
   "display_name": "Python 2",
   "language": "python",
   "name": "python2"
  },
  "language_info": {
   "codemirror_mode": {
    "name": "ipython",
    "version": 2
   },
   "file_extension": ".py",
   "mimetype": "text/x-python",
   "name": "python",
   "nbconvert_exporter": "python",
   "pygments_lexer": "ipython2",
   "version": "2.7.11"
  }
 },
 "nbformat": 4,
 "nbformat_minor": 0
}
